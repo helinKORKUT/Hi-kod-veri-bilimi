{
 "cells": [
  {
   "cell_type": "code",
   "execution_count": 1,
   "id": "881e9efa",
   "metadata": {},
   "outputs": [],
   "source": [
    "#Ödev-1: Değişkenlere atanmış değerlerin veri tipleri arasında dönüşüm yapılır.\n",
    "\n",
    "x = \"Hello World\"\n",
    "y = 5\n",
    "z = 8.4\n",
    "v = True"
   ]
  },
  {
   "cell_type": "code",
   "execution_count": 2,
   "id": "2e19a57e",
   "metadata": {},
   "outputs": [
    {
     "data": {
      "text/plain": [
       "str"
      ]
     },
     "execution_count": 2,
     "metadata": {},
     "output_type": "execute_result"
    }
   ],
   "source": [
    "type(x)"
   ]
  },
  {
   "cell_type": "code",
   "execution_count": 3,
   "id": "931bda13",
   "metadata": {},
   "outputs": [
    {
     "data": {
      "text/plain": [
       "int"
      ]
     },
     "execution_count": 3,
     "metadata": {},
     "output_type": "execute_result"
    }
   ],
   "source": [
    "type(y)"
   ]
  },
  {
   "cell_type": "code",
   "execution_count": 4,
   "id": "02669367",
   "metadata": {},
   "outputs": [
    {
     "data": {
      "text/plain": [
       "'5'"
      ]
     },
     "execution_count": 4,
     "metadata": {},
     "output_type": "execute_result"
    }
   ],
   "source": [
    "str(y)"
   ]
  },
  {
   "cell_type": "code",
   "execution_count": 5,
   "id": "1c310ecd",
   "metadata": {},
   "outputs": [
    {
     "data": {
      "text/plain": [
       "float"
      ]
     },
     "execution_count": 5,
     "metadata": {},
     "output_type": "execute_result"
    }
   ],
   "source": [
    "type(z)"
   ]
  },
  {
   "cell_type": "code",
   "execution_count": 6,
   "id": "a649ddcd",
   "metadata": {},
   "outputs": [
    {
     "data": {
      "text/plain": [
       "8"
      ]
     },
     "execution_count": 6,
     "metadata": {},
     "output_type": "execute_result"
    }
   ],
   "source": [
    "int(z)"
   ]
  },
  {
   "cell_type": "code",
   "execution_count": 7,
   "id": "b215f7c1",
   "metadata": {},
   "outputs": [
    {
     "data": {
      "text/plain": [
       "bool"
      ]
     },
     "execution_count": 7,
     "metadata": {},
     "output_type": "execute_result"
    }
   ],
   "source": [
    "type(v)"
   ]
  },
  {
   "cell_type": "code",
   "execution_count": 8,
   "id": "0b30835d",
   "metadata": {},
   "outputs": [],
   "source": [
    "#Ödev-2: İsimlerden oluşan üç değişkene yaş değerleri atanır. Belirlenen üç değişken birbiriyle karşılaştırma operatörleri ile karşılaştırılır. Bu karşılaştırmalara mantıksal operatörler de eklenir.\n",
    "helin = 23\n",
    "furkan = 27\n",
    "ahmet = 27"
   ]
  },
  {
   "cell_type": "code",
   "execution_count": 9,
   "id": "0f176f48",
   "metadata": {},
   "outputs": [
    {
     "data": {
      "text/plain": [
       "False"
      ]
     },
     "execution_count": 9,
     "metadata": {},
     "output_type": "execute_result"
    }
   ],
   "source": [
    "helin > furkan"
   ]
  },
  {
   "cell_type": "code",
   "execution_count": 10,
   "id": "7347db8d",
   "metadata": {},
   "outputs": [
    {
     "data": {
      "text/plain": [
       "True"
      ]
     },
     "execution_count": 10,
     "metadata": {},
     "output_type": "execute_result"
    }
   ],
   "source": [
    "ahmet >= furkan"
   ]
  },
  {
   "cell_type": "code",
   "execution_count": 11,
   "id": "6f9f60fd",
   "metadata": {},
   "outputs": [
    {
     "data": {
      "text/plain": [
       "True"
      ]
     },
     "execution_count": 11,
     "metadata": {},
     "output_type": "execute_result"
    }
   ],
   "source": [
    "helin < furkan and furkan <= ahmet"
   ]
  },
  {
   "cell_type": "code",
   "execution_count": 12,
   "id": "addcc2ed",
   "metadata": {},
   "outputs": [
    {
     "data": {
      "text/plain": [
       "False"
      ]
     },
     "execution_count": 12,
     "metadata": {},
     "output_type": "execute_result"
    }
   ],
   "source": [
    "helin > furkan or ahmet < helin"
   ]
  },
  {
   "cell_type": "code",
   "execution_count": 13,
   "id": "c82a6d19",
   "metadata": {},
   "outputs": [
    {
     "name": "stdout",
     "output_type": "stream",
     "text": [
      "Yaşadığınız yerin yaş ortalaması:37\n",
      "Yaşınız:23\n"
     ]
    }
   ],
   "source": [
    "#Ödev-3: Kullanıcıdan iki değer girmesini istenir. Girilen değerlerin toplama, çıkarma, çarpma, bölme sonuçlarını yazdırılır.\n",
    "\n",
    "ortalama = input(\"Yaşadığınız yerin yaş ortalaması:\")\n",
    "yas = input(\"Yaşınız:\")"
   ]
  },
  {
   "cell_type": "code",
   "execution_count": 14,
   "id": "9c4ad524",
   "metadata": {},
   "outputs": [
    {
     "data": {
      "text/plain": [
       "str"
      ]
     },
     "execution_count": 14,
     "metadata": {},
     "output_type": "execute_result"
    }
   ],
   "source": [
    "type(ortalama)"
   ]
  },
  {
   "cell_type": "code",
   "execution_count": 27,
   "id": "4f8e0a5c",
   "metadata": {},
   "outputs": [],
   "source": [
    "ortalama = int(ortalama)"
   ]
  },
  {
   "cell_type": "code",
   "execution_count": 28,
   "id": "d215c0b9",
   "metadata": {},
   "outputs": [
    {
     "data": {
      "text/plain": [
       "37"
      ]
     },
     "execution_count": 28,
     "metadata": {},
     "output_type": "execute_result"
    }
   ],
   "source": [
    "ortalama"
   ]
  },
  {
   "cell_type": "code",
   "execution_count": 17,
   "id": "0b3c3f48",
   "metadata": {},
   "outputs": [
    {
     "data": {
      "text/plain": [
       "str"
      ]
     },
     "execution_count": 17,
     "metadata": {},
     "output_type": "execute_result"
    }
   ],
   "source": [
    "type(yas)"
   ]
  },
  {
   "cell_type": "code",
   "execution_count": 26,
   "id": "09e63995",
   "metadata": {},
   "outputs": [],
   "source": [
    "yas = int(yas)"
   ]
  },
  {
   "cell_type": "code",
   "execution_count": 29,
   "id": "a6422914",
   "metadata": {},
   "outputs": [
    {
     "data": {
      "text/plain": [
       "23"
      ]
     },
     "execution_count": 29,
     "metadata": {},
     "output_type": "execute_result"
    }
   ],
   "source": [
    "yas"
   ]
  },
  {
   "cell_type": "code",
   "execution_count": 30,
   "id": "c9b97578",
   "metadata": {},
   "outputs": [],
   "source": [
    "toplam = ortalama + yas\n",
    "fark = ortalama - yas\n",
    "carpım = ortalama * yas\n",
    "bolum = ortalama / yas"
   ]
  },
  {
   "cell_type": "code",
   "execution_count": 31,
   "id": "66755bcb",
   "metadata": {},
   "outputs": [
    {
     "data": {
      "text/plain": [
       "60"
      ]
     },
     "execution_count": 31,
     "metadata": {},
     "output_type": "execute_result"
    }
   ],
   "source": [
    "toplam"
   ]
  },
  {
   "cell_type": "code",
   "execution_count": 32,
   "id": "434c3ff3",
   "metadata": {},
   "outputs": [
    {
     "data": {
      "text/plain": [
       "14"
      ]
     },
     "execution_count": 32,
     "metadata": {},
     "output_type": "execute_result"
    }
   ],
   "source": [
    "fark"
   ]
  },
  {
   "cell_type": "code",
   "execution_count": 33,
   "id": "acbf32c6",
   "metadata": {},
   "outputs": [
    {
     "data": {
      "text/plain": [
       "851"
      ]
     },
     "execution_count": 33,
     "metadata": {},
     "output_type": "execute_result"
    }
   ],
   "source": [
    "carpım"
   ]
  },
  {
   "cell_type": "code",
   "execution_count": 34,
   "id": "32de841e",
   "metadata": {},
   "outputs": [
    {
     "data": {
      "text/plain": [
       "1.608695652173913"
      ]
     },
     "execution_count": 34,
     "metadata": {},
     "output_type": "execute_result"
    }
   ],
   "source": [
    "bolum"
   ]
  },
  {
   "cell_type": "code",
   "execution_count": 41,
   "id": "323d0d33",
   "metadata": {},
   "outputs": [
    {
     "name": "stdout",
     "output_type": "stream",
     "text": [
      "isim:Helin\n",
      "yaş:23\n",
      "şehirizmir\n",
      "meslek:istatistikçi\n"
     ]
    },
    {
     "data": {
      "text/plain": [
       "'istatistikçi'"
      ]
     },
     "execution_count": 41,
     "metadata": {},
     "output_type": "execute_result"
    }
   ],
   "source": [
    "#Ödev-4: Kullanıcıdan isim, yaş, şehir ve meslek bilgilerini istenir ve cevaplarını yazdırılır.\n",
    "input(\"isim:\")\n",
    "input(\"yaş:\")\n",
    "input(\"şehir\")\n",
    "input(\"meslek:\")\n",
    "    "
   ]
  },
  {
   "cell_type": "code",
   "execution_count": 42,
   "id": "538724fe",
   "metadata": {},
   "outputs": [],
   "source": [
    "#Ödev-5: \"Hi-Kod Veri Bilimi Atölyesi\" ifadesini bir değişkene tanımlanır.\n",
    "#İfadedeki her bir kelimeyi (\"Hi-Kod\", \"Veri\", \"Bilimi\", \"Atölyesi\") değişken içinden seçilir. \n",
    "#İfadeyi hepsini büyük harf olacak hale çevrilir. (\"HI-KOD VERİ BİLİMİ ATÖLYESİ\") \n",
    "#İfadeyi hepsini büyük harf olacak hale çevrilir.(\"hi-kod veri bilimi atölyesi\") \n",
    "\n",
    "atolye = \"Hi-Kod Veri Bilimi Atölyesi\""
   ]
  },
  {
   "cell_type": "code",
   "execution_count": 43,
   "id": "36f6a47e",
   "metadata": {},
   "outputs": [
    {
     "data": {
      "text/plain": [
       "['Hi-Kod', 'Veri', 'Bilimi', 'Atölyesi']"
      ]
     },
     "execution_count": 43,
     "metadata": {},
     "output_type": "execute_result"
    }
   ],
   "source": [
    "atolye.split()"
   ]
  },
  {
   "cell_type": "code",
   "execution_count": 44,
   "id": "924c37d0",
   "metadata": {},
   "outputs": [
    {
     "data": {
      "text/plain": [
       "'HI-KOD VERI BILIMI ATÖLYESI'"
      ]
     },
     "execution_count": 44,
     "metadata": {},
     "output_type": "execute_result"
    }
   ],
   "source": [
    "atolye.upper()"
   ]
  },
  {
   "cell_type": "code",
   "execution_count": 45,
   "id": "bd3a141b",
   "metadata": {},
   "outputs": [
    {
     "data": {
      "text/plain": [
       "'hi-kod veri bilimi atölyesi'"
      ]
     },
     "execution_count": 45,
     "metadata": {},
     "output_type": "execute_result"
    }
   ],
   "source": [
    "atolye.lower()"
   ]
  },
  {
   "cell_type": "code",
   "execution_count": 46,
   "id": "73e3c968",
   "metadata": {},
   "outputs": [
    {
     "data": {
      "text/plain": [
       "'02468'"
      ]
     },
     "execution_count": 46,
     "metadata": {},
     "output_type": "execute_result"
    }
   ],
   "source": [
    "#\"0123456789\" ifadesindeki yalnızca çift sayıları ve yalnızca tek sayıları seçilir. (\"02468\", \"13579\")\n",
    "\n",
    "sayi = \"0123456789\"\n",
    "sayi[::2]"
   ]
  },
  {
   "cell_type": "code",
   "execution_count": 55,
   "id": "94512bc4",
   "metadata": {},
   "outputs": [
    {
     "data": {
      "text/plain": [
       "'13579'"
      ]
     },
     "execution_count": 55,
     "metadata": {},
     "output_type": "execute_result"
    }
   ],
   "source": [
    "sayi[1::2]"
   ]
  }
 ],
 "metadata": {
  "kernelspec": {
   "display_name": "Python 3 (ipykernel)",
   "language": "python",
   "name": "python3"
  },
  "language_info": {
   "codemirror_mode": {
    "name": "ipython",
    "version": 3
   },
   "file_extension": ".py",
   "mimetype": "text/x-python",
   "name": "python",
   "nbconvert_exporter": "python",
   "pygments_lexer": "ipython3",
   "version": "3.9.13"
  }
 },
 "nbformat": 4,
 "nbformat_minor": 5
}
